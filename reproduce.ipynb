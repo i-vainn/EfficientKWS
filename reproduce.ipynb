{
 "cells": [
  {
   "cell_type": "code",
   "execution_count": null,
   "metadata": {},
   "outputs": [],
   "source": [
    "# !wget http://download.tensorflow.org/data/speech_commands_v0.01.tar.gz -O speech_commands_v0.01.tar.gz\n",
    "# !mkdir speech_commands && tar -C speech_commands -xvzf speech_commands_v0.01.tar.gz 1> log\n",
    "\n",
    "# !pip install wandb\n",
    "# !pip install thop"
   ]
  },
  {
   "cell_type": "code",
   "execution_count": 10,
   "metadata": {},
   "outputs": [],
   "source": [
    "import torch\n",
    "\n",
    "from kws.trainer import Trainer\n",
    "from kws.config import UncompressedConfig, SmallConfig\n",
    "from kws.models import CRNN, StreamCRNN\n",
    "from test_performance import test_preformance"
   ]
  },
  {
   "cell_type": "markdown",
   "metadata": {},
   "source": [
    "Train base model to good quality for 50 epochs."
   ]
  },
  {
   "cell_type": "code",
   "execution_count": 2,
   "metadata": {},
   "outputs": [],
   "source": [
    "base_config = UncompressedConfig()\n",
    "# trainer = Trainer(base_config)\n",
    "# trainer.train()"
   ]
  },
  {
   "cell_type": "markdown",
   "metadata": {},
   "source": [
    "Now use it for Knowledge Distillation as a Teacher model."
   ]
  },
  {
   "cell_type": "code",
   "execution_count": 3,
   "metadata": {},
   "outputs": [],
   "source": [
    "student_config = SmallConfig()\n",
    "\n",
    "# trainer = Trainer(base_config)\n",
    "# trainer.train_distilled(student_config, teacher_checkpoint='teacher_model.pth')"
   ]
  },
  {
   "cell_type": "markdown",
   "metadata": {},
   "source": [
    "To compress model even more use dynamic quantization."
   ]
  },
  {
   "cell_type": "code",
   "execution_count": 4,
   "metadata": {},
   "outputs": [
    {
     "name": "stderr",
     "output_type": "stream",
     "text": [
      "/Users/egoriya/miniconda/lib/python3.9/site-packages/torch/nn/modules/rnn.py:67: UserWarning: dropout option adds dropout after all but last recurrent layer, so non-zero dropout expects num_layers greater than 1, but got dropout=0.1 and num_layers=1\n",
      "  warnings.warn(\"dropout option adds dropout after all but last \"\n",
      "/Users/egoriya/miniconda/lib/python3.9/site-packages/torch/ao/nn/quantized/dynamic/modules/rnn.py:89: UserWarning: dropout option adds dropout after all but last recurrent layer, so non-zero dropout expects num_layers greater than 1, but got dropout=0.1 and num_layers=1\n",
      "  warnings.warn(\"dropout option adds dropout after all but last \"\n"
     ]
    }
   ],
   "source": [
    "best_student_checkpoint = 'solar-donkey-22-45-0.0000455_distill_model.pth'\n",
    "best_base_checkpoint = 'cool-haze-8-27-0.0000_model.pth'\n",
    "device = torch.device('cuda:0' if torch.cuda.is_available() else 'cpu')\n",
    "\n",
    "base_model = CRNN(base_config)\n",
    "distill_model = CRNN(student_config)\n",
    "base_model.load_state_dict(torch.load(best_base_checkpoint, map_location=device))\n",
    "distill_model.load_state_dict(torch.load(best_student_checkpoint, map_location=device))\n",
    "quantized_base_model = torch.quantization.quantize_dynamic(base_model, dtype=torch.float16)\n",
    "quantized_distilled_model = torch.quantization.quantize_dynamic(distill_model, dtype=torch.float16)"
   ]
  },
  {
   "cell_type": "markdown",
   "metadata": {},
   "source": [
    "Now let's test our models performance."
   ]
  },
  {
   "cell_type": "code",
   "execution_count": 5,
   "metadata": {},
   "outputs": [],
   "source": [
    "import torch.nn.utils.prune as prune"
   ]
  },
  {
   "cell_type": "code",
   "execution_count": 6,
   "metadata": {},
   "outputs": [
    {
     "name": "stderr",
     "output_type": "stream",
     "text": [
      "102it [00:18,  5.44it/s]\n"
     ]
    },
    {
     "data": {
      "text/plain": [
       "{'memory': 0.10677528381347656,\n",
       " 'au_fa_fr': 0.00013122040376128556,\n",
       " 'time': 0.006090968262915518,\n",
       " 'MACs': 54911167.058823526,\n",
       " 'num_params': 25387}"
      ]
     },
     "execution_count": 6,
     "metadata": {},
     "output_type": "execute_result"
    }
   ],
   "source": [
    "pruned_model = CRNN(base_config)\n",
    "pruned_model.load_state_dict(torch.load(best_base_checkpoint, map_location=device))\n",
    "\n",
    "module = pruned_model.conv[0]\n",
    "\n",
    "prune.ln_structured(module, name=\"weight\", amount=0.5, n=2, dim=0)\n",
    "\n",
    "test_preformance(base_config, pruned_model)"
   ]
  },
  {
   "cell_type": "markdown",
   "metadata": {},
   "source": [
    "Pruning drops metric so much so we do not include it in final comparison of compression methods."
   ]
  },
  {
   "cell_type": "code",
   "execution_count": 7,
   "metadata": {},
   "outputs": [
    {
     "name": "stderr",
     "output_type": "stream",
     "text": [
      "102it [00:14,  7.18it/s]\n",
      "102it [00:14,  6.93it/s]\n",
      "102it [00:13,  7.37it/s]\n",
      "102it [00:14,  7.11it/s]\n"
     ]
    },
    {
     "name": "stdout",
     "output_type": "stream",
     "text": [
      "Experiment name: quantized_base_res\n",
      "memory reduced by 0.923332\n",
      "au_fa_fr reduced by 0.999602\n",
      "time reduced by 0.740992\n",
      "MACs reduced by 2.731515\n",
      "num_params reduced by 31.419554\n",
      "###\n",
      "###\n",
      "Experiment name: distill_res\n",
      "memory reduced by 3.625547\n",
      "au_fa_fr reduced by 1.339848\n",
      "time reduced by 1.786345\n",
      "MACs reduced by 2.699476\n",
      "num_params reduced by 4.222721\n",
      "###\n",
      "###\n",
      "Experiment name: quantized_distill_res\n",
      "memory reduced by 2.856628\n",
      "au_fa_fr reduced by 1.340325\n",
      "time reduced by 1.126476\n",
      "MACs reduced by 4.370424\n",
      "num_params reduced by 50.271287\n",
      "###\n",
      "###\n"
     ]
    }
   ],
   "source": [
    "uncompressed_res = test_preformance(base_config, base_model)\n",
    "\n",
    "comp_dict = dict(\n",
    "    quantized_base_res = test_preformance(base_config, quantized_base_model),\n",
    "    distill_res = test_preformance(student_config, distill_model),\n",
    "    quantized_distill_res = test_preformance(student_config, quantized_distilled_model),\n",
    ")\n",
    "\n",
    "for name, cmp in comp_dict.items():\n",
    "    print(f'Experiment name: {name}')\n",
    "    for key in uncompressed_res:\n",
    "        print('{} reduced by {:.6f}'.format(key, uncompressed_res[key] / cmp[key]))\n",
    "    print('###\\n###')"
   ]
  },
  {
   "cell_type": "markdown",
   "metadata": {},
   "source": [
    "## Streaming"
   ]
  },
  {
   "cell_type": "markdown",
   "metadata": {},
   "source": [
    "We can use our model in streaming mode. To do so we need to initialize StreamCRNN model with pretrained weights. After that we can apply model to raw audio."
   ]
  },
  {
   "cell_type": "code",
   "execution_count": 30,
   "metadata": {},
   "outputs": [],
   "source": [
    "from pathlib import Path\n",
    "import torchaudio\n",
    "import matplotlib.pyplot as plt\n",
    "\n",
    "\n",
    "def streaming_inference(streaming_model, audio, device, slice_len=100):\n",
    "    history = []\n",
    "    for step in range(slice_len, audio.size(-1) + 1, slice_len):\n",
    "        window = audio[:, step-slice_len:step].to(device)\n",
    "        probs = streaming_model.process(window)\n",
    "        history.append(probs[0][1])\n",
    "    plt.plot(history)\n",
    "    plt.title(\"Keyword prob\")\n",
    "    plt.xlabel(\"Slice\")\n",
    "    plt.ylabel(\"Prob\")"
   ]
  },
  {
   "cell_type": "code",
   "execution_count": 9,
   "metadata": {},
   "outputs": [],
   "source": [
    "CURRENT_DIR = Path().absolute().resolve()\n",
    "\n",
    "keywords = [\n",
    "    \"on\", \"sheila\", \"off\", \"nine\", \"sheila\", \"six\"\n",
    "]\n",
    "\n",
    "big_audio = torch.Tensor([])\n",
    "\n",
    "for word in keywords:\n",
    "    try:\n",
    "        path = CURRENT_DIR / f\"speech_commands/{word}/004ae714_nohash_0.wav\"\n",
    "        audio, _ = torchaudio.load(path)\n",
    "    except:\n",
    "        continue\n",
    "    big_audio = torch.cat((big_audio, audio), dim=-1)"
   ]
  },
  {
   "cell_type": "code",
   "execution_count": 33,
   "metadata": {},
   "outputs": [],
   "source": [
    "import torch\n",
    "import torch.nn.functional as F\n",
    "from kws.models import CRNN\n",
    "from kws.augmentations import LogMelspec\n",
    "\n",
    "class StreamCRNN(CRNN):\n",
    "    '''\n",
    "        Streaming version of CRNN.\n",
    "    '''\n",
    "\n",
    "    def __init__(self, config):\n",
    "        super().__init__(config)\n",
    "\n",
    "        self.mel_processor = LogMelspec(False, config)\n",
    "        self.raw_cache = torch.Tensor([])\n",
    "        self.max_window_length = config.max_window_length\n",
    "        self.streaming_step_size = config.streaming_step_size\n",
    "        self.prev_hidden = None\n",
    "        self.prev_prob = torch.zeros(1, 2)\n",
    "        self.processed_steps = 0\n",
    "\n",
    "    @torch.no_grad()\n",
    "    def process(self, raw_audio: torch.Tensor):\n",
    "        self.raw_cache = torch.cat([self.raw_cache, raw_audio], dim=-1)[:, -self.max_window_length:]\n",
    "        self.processed_steps += raw_audio.size(-1)\n",
    "\n",
    "        if self.processed_steps >= self.streaming_step_size:\n",
    "            self.processed_steps = 0\n",
    "            melspec = self.mel_processor(self.raw_cache)\n",
    "            logits, self.prev_hidden = super().forward(melspec, hiddens=self.prev_hidden)\n",
    "            self.prev_prob = F.softmax(logits, dim=-1)\n",
    "\n",
    "        return self.prev_prob"
   ]
  },
  {
   "cell_type": "code",
   "execution_count": 34,
   "metadata": {},
   "outputs": [
    {
     "data": {
      "image/png": "[encoded data removed]",
      "text/plain": [
       "<Figure size 640x480 with 1 Axes>"
      ]
     },
     "metadata": {},
     "output_type": "display_data"
    }
   ],
   "source": [
    "streaming_config = UncompressedConfig()\n",
    "streaming_config.max_window_length = 8000\n",
    "streaming_config.streaming_step_size = 3200\n",
    "streaming_model = StreamCRNN(streaming_config).to(device)\n",
    "streaming_model.load_state_dict(torch.load('teacher_model.pth', map_location=device))\n",
    "streaming_model.eval()\n",
    "\n",
    "streaming_inference(streaming_model, big_audio, device)"
   ]
  }
 ],
 "metadata": {
  "kernelspec": {
   "display_name": "Python 3.9.12 ('base')",
   "language": "python",
   "name": "python3"
  },
  "language_info": {
   "codemirror_mode": {
    "name": "ipython",
    "version": 3
   },
   "file_extension": ".py",
   "mimetype": "text/x-python",
   "name": "python",
   "nbconvert_exporter": "python",
   "pygments_lexer": "ipython3",
   "version": "3.9.12"
  },
  "orig_nbformat": 4,
  "vscode": {
   "interpreter": {
    "hash": "5a3a81d80e20b06e0334a30c84a66b7a0dd095b5feb0750ed32f27b2a24930b6"
   }
  }
 },
 "nbformat": 4,
 "nbformat_minor": 2
}
